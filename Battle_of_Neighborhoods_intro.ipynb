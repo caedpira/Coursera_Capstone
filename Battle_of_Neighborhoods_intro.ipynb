{
 "cells": [
  {
   "cell_type": "markdown",
   "metadata": {},
   "source": [
    "# The Battle of Neighborhoods"
   ]
  },
  {
   "cell_type": "markdown",
   "metadata": {},
   "source": [
    "#### This Notebook corresponds to the Applied Data Science Capstone Weeks 4 & 5 Coursera Course Assignment."
   ]
  },
  {
   "cell_type": "markdown",
   "metadata": {},
   "source": [
    "## Table of Contents\n",
    "\n",
    "<p>1. <a href=\"#section1\">Introduction</a></p>\n",
    "<p></p>\n",
    "<p>2. <a href=\"#section1.1\">Toronto City</a></p>\n",
    "<p></p>\n",
    "<p>3. <a href=\"#section2\">New York City</a></p>\n",
    "<p></p>\n",
    "<p>4. <a href=\"#section3\">Paris City</a></p>    \n"
   ]
  },
  {
   "cell_type": "markdown",
   "metadata": {},
   "source": [
    "<a id='section1'></a>\n",
    "# 1. Introduction"
   ]
  },
  {
   "cell_type": "markdown",
   "metadata": {},
   "source": [
    "## Description of the problem and a discussion of the background:"
   ]
  },
  {
   "cell_type": "markdown",
   "metadata": {},
   "source": [
    "A french family residing in Paris has to make a decision about whether to move to New York or Toronto, being both cities very diverse and the financial capitals of their respective countries. In addition, the family head has received two very similar job offers from the aforementioned cities and the final decision to where to move will be based in how similar or dissimilar they are compared to Paris.   "
   ]
  },
  {
   "cell_type": "markdown",
   "metadata": {},
   "source": [
    "## Description of the data and how it will be used to solve the problem:"
   ]
  },
  {
   "cell_type": "markdown",
   "metadata": {},
   "source": [
    "The Toronto and New York data related to neighborhoods and geographical coordinates are the same as in the Module 3 (Cognitive Lab, Wikipedia and Foursquare).\n",
    "The Paris neighborhoods and their geographical location will be obtained using a JSON file from URL: 'https://opendata.paris.fr/explore/dataset/arrondissements/download/?format=json&timezone=Asia/Dubai'\n",
    "The venues on the neighborhoods of each city will be explored and using FOURSQUARE and then will be segmented and clustered in order to determine how similar or dissimilar the cities are.\n",
    "In order to achieve the above, the most representative cluster of each city will be selected and then a comparison will be made."
   ]
  },
  {
   "cell_type": "markdown",
   "metadata": {},
   "source": [
    " "
   ]
  },
  {
   "cell_type": "code",
   "execution_count": null,
   "metadata": {},
   "outputs": [],
   "source": []
  },
  {
   "cell_type": "markdown",
   "metadata": {},
   "source": [
    "### Thank you reviewing my Assignment!\n",
    "\n",
    "This notebook was modified by Carlos Pinillos from the one created by [Alex Aklson](https://www.linkedin.com/in/aklson/) and [Polong Lin](https://www.linkedin.com/in/polonglin/) which is part of a course on Coursera called Applied Data Science Capstone. If you accessed this notebook outside the course, you can take this course online by clicking [here](http://cocl.us/DP0701EN_Coursera_Week3_LAB2)."
   ]
  },
  {
   "cell_type": "markdown",
   "metadata": {},
   "source": [
    "<hr>\n",
    "\n",
    "Copyright &copy; 2019 [Cognitive Class](https://cognitiveclass.ai/?utm_source=bducopyrightlink&utm_medium=dswb&utm_campaign=bdu). The original notebook and its source code are released under the terms of the [MIT License](https://bigdatauniversity.com/mit-license/)."
   ]
  }
 ],
 "metadata": {
  "kernelspec": {
   "display_name": "Python",
   "language": "python",
   "name": "conda-env-python-py"
  },
  "language_info": {
   "codemirror_mode": {
    "name": "ipython",
    "version": 3
   },
   "file_extension": ".py",
   "mimetype": "text/x-python",
   "name": "python",
   "nbconvert_exporter": "python",
   "pygments_lexer": "ipython3",
   "version": "3.6.7"
  },
  "widgets": {
   "state": {},
   "version": "1.1.2"
  }
 },
 "nbformat": 4,
 "nbformat_minor": 4
}
